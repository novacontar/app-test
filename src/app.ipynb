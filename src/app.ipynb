{
 "cells": [
  {
   "cell_type": "markdown",
   "id": "0f6d98f5-f1b8-4500-aabd-2512e54f0106",
   "metadata": {},
   "source": [
    "### app test"
   ]
  },
  {
   "cell_type": "code",
   "execution_count": null,
   "id": "07e55ee9-f51e-45c3-99b8-be552410f9bd",
   "metadata": {},
   "outputs": [],
   "source": [
    "!pip install voila\n",
    "!jupyter serverextension enable --sys-prefix voila"
   ]
  },
  {
   "cell_type": "code",
   "execution_count": null,
   "id": "9bcfad72-f8a0-49fc-b8ce-e2b175bd937a",
   "metadata": {},
   "outputs": [],
   "source": [
    "print(f\"this is to test the app!\")"
   ]
  },
  {
   "cell_type": "code",
   "execution_count": null,
   "id": "286fa6bc-c2c3-4493-9be0-ab0f18e14469",
   "metadata": {},
   "outputs": [],
   "source": []
  }
 ],
 "metadata": {
  "kernelspec": {
   "display_name": "Python 3 (ipykernel)",
   "language": "python",
   "name": "python3"
  },
  "language_info": {
   "codemirror_mode": {
    "name": "ipython",
    "version": 3
   },
   "file_extension": ".py",
   "mimetype": "text/x-python",
   "name": "python",
   "nbconvert_exporter": "python",
   "pygments_lexer": "ipython3",
   "version": "3.11.7"
  }
 },
 "nbformat": 4,
 "nbformat_minor": 5
}
